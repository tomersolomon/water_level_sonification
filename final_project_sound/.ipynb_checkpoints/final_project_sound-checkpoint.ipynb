{
 "cells": [
  {
   "cell_type": "markdown",
   "metadata": {},
   "source": [
    "## Final Project Work for Sonification\n",
    "### Tomer Solomon Mate 3/2/2017"
   ]
  },
  {
   "cell_type": "code",
   "execution_count": 2,
   "metadata": {
    "collapsed": false
   },
   "outputs": [
    {
     "data": {
      "text/plain": [
       "u'/Users/Tomer/Documents/Columbia/2016-2017/Spring/sonification/final_project'"
      ]
     },
     "execution_count": 2,
     "metadata": {},
     "output_type": "execute_result"
    }
   ],
   "source": [
    "pwd"
   ]
  },
  {
   "cell_type": "code",
   "execution_count": 3,
   "metadata": {
    "collapsed": true
   },
   "outputs": [],
   "source": [
    "import numpy as np\n",
    "import matplotlib.pyplot as plt\n",
    "import math\n",
    "import pandas as pd\n",
    "\n",
    "%matplotlib inline"
   ]
  },
  {
   "cell_type": "code",
   "execution_count": 24,
   "metadata": {
    "collapsed": false
   },
   "outputs": [
    {
     "data": {
      "text/html": [
       "<div>\n",
       "<table border=\"1\" class=\"dataframe\">\n",
       "  <thead>\n",
       "    <tr style=\"text-align: right;\">\n",
       "      <th></th>\n",
       "      <th>date time</th>\n",
       "      <th>water level</th>\n",
       "      <th>sigma</th>\n",
       "      <th>o</th>\n",
       "      <th>f</th>\n",
       "      <th>r</th>\n",
       "      <th>l</th>\n",
       "      <th>quality</th>\n",
       "    </tr>\n",
       "  </thead>\n",
       "  <tbody>\n",
       "    <tr>\n",
       "      <th>0</th>\n",
       "      <td>2017-03-01 00:00</td>\n",
       "      <td>2.298</td>\n",
       "      <td>0.069</td>\n",
       "      <td>0</td>\n",
       "      <td>0</td>\n",
       "      <td>0</td>\n",
       "      <td>0</td>\n",
       "      <td>p</td>\n",
       "    </tr>\n",
       "    <tr>\n",
       "      <th>1</th>\n",
       "      <td>2017-03-01 00:06</td>\n",
       "      <td>2.206</td>\n",
       "      <td>0.095</td>\n",
       "      <td>0</td>\n",
       "      <td>0</td>\n",
       "      <td>0</td>\n",
       "      <td>0</td>\n",
       "      <td>p</td>\n",
       "    </tr>\n",
       "    <tr>\n",
       "      <th>2</th>\n",
       "      <td>2017-03-01 00:12</td>\n",
       "      <td>2.055</td>\n",
       "      <td>0.082</td>\n",
       "      <td>0</td>\n",
       "      <td>0</td>\n",
       "      <td>0</td>\n",
       "      <td>0</td>\n",
       "      <td>p</td>\n",
       "    </tr>\n",
       "    <tr>\n",
       "      <th>3</th>\n",
       "      <td>2017-03-01 00:18</td>\n",
       "      <td>1.980</td>\n",
       "      <td>0.069</td>\n",
       "      <td>1</td>\n",
       "      <td>0</td>\n",
       "      <td>0</td>\n",
       "      <td>0</td>\n",
       "      <td>p</td>\n",
       "    </tr>\n",
       "    <tr>\n",
       "      <th>4</th>\n",
       "      <td>2017-03-01 00:24</td>\n",
       "      <td>1.940</td>\n",
       "      <td>0.079</td>\n",
       "      <td>0</td>\n",
       "      <td>0</td>\n",
       "      <td>0</td>\n",
       "      <td>0</td>\n",
       "      <td>p</td>\n",
       "    </tr>\n",
       "  </tbody>\n",
       "</table>\n",
       "</div>"
      ],
      "text/plain": [
       "          date time   water level   sigma   o   f   r   l  quality \n",
       "0  2017-03-01 00:00         2.298   0.069   0   0   0   0         p\n",
       "1  2017-03-01 00:06         2.206   0.095   0   0   0   0         p\n",
       "2  2017-03-01 00:12         2.055   0.082   0   0   0   0         p\n",
       "3  2017-03-01 00:18         1.980   0.069   1   0   0   0         p\n",
       "4  2017-03-01 00:24         1.940   0.079   0   0   0   0         p"
      ]
     },
     "execution_count": 24,
     "metadata": {},
     "output_type": "execute_result"
    }
   ],
   "source": [
    "#url = 'https://tidesandcurrents.noaa.gov/met.html?bdate=20170301&edate=20170302&units=standard&timezone=GMT&id=9414290&interval=6&action=data&format=csv'\n",
    "wl_directory = 'CO-OPS__9414290__wl.csv'\n",
    "phys_directory = 'CO-OPS_9414290_from_20170302_to_20170303_phys.csv'\n",
    "met_directory = 'CO-OPS_9414290_from_20170301_to_20170302_met.csv'\n",
    "\n",
    "data = pd.read_csv(wl_directory,parse_dates=True)\n",
    "data.columns = data.columns.str.lower()\n",
    "\n",
    "# phys = pd.read_csv(phys_directory,parse_dates=True)\n",
    "# phys.columns = phys.columns.str.lower()\n",
    "\n",
    "# met = pd.read_csv(met_directory,parse_dates=True)\n",
    "# met.columns = met.columns.str.lower()\n",
    "\n",
    "data.head()"
   ]
  },
  {
   "cell_type": "code",
   "execution_count": 29,
   "metadata": {
    "collapsed": false
   },
   "outputs": [
    {
     "data": {
      "image/png": "[encoded data removed]",
      "text/plain": [
       "<matplotlib.figure.Figure at 0x115dab5d0>"
      ]
     },
     "metadata": {},
     "output_type": "display_data"
    }
   ],
   "source": [
    "fig = plt.figure(figsize=(10,8))\n",
    "\n",
    "plt.plot(data.index,data[' water level'])\n",
    "\n",
    "time = data.index\n",
    "p1 = data[' water level']"
   ]
  },
  {
   "cell_type": "code",
   "execution_count": 30,
   "metadata": {
    "collapsed": false
   },
   "outputs": [
    {
     "name": "stdout",
     "output_type": "stream",
     "text": [
      "475\n",
      "474\n",
      "dt_0 = 0.042194092827\n",
      "npts = 474.0\n",
      "===============================\n",
      "npts (new time) = 1000.0\n",
      "npts (new p1) = 1000\n"
     ]
    }
   ],
   "source": [
    "# interpolation ! \n",
    "dur_data = time[-1]\n",
    "dur_sound = 20.0 \n",
    "\n",
    "# make a new time vector for all the data points.. \n",
    "time_sound = np.linspace(0,dur_sound,len(time))\n",
    "dt_0 = time_sound[1] - time_sound[0]\n",
    "\n",
    "print(len(time_sound))\n",
    "print(int(dur_sound/dt_0))\n",
    "print('dt_0 = ' + str(dt_0))\n",
    "print('npts = ' + str(dur_sound/dt_0))\n",
    "print('===============================')\n",
    "\n",
    "# ======================================================\n",
    "# if you want a different duration between notes, you can over or under sample this. \n",
    "# if you want to listen exactly to the data, set dt=dt_0\n",
    "dt = 0.02 # seconds\n",
    "dur_note = 5*dt\n",
    "# ======================================================\n",
    "\n",
    "# if dt is set to = dt_0, the raw data will be used to generate the notes. \n",
    "npts_new = dur_sound/dt\n",
    "print('npts (new time) = ' + str(npts_new))\n",
    "\n",
    "# make time vector for new sub- or over-sampled sound: \n",
    "time_new = np.linspace(0,dur_sound,int(npts_new))\n",
    "# now determine new y values \n",
    "p1_new = np.interp(time_new, time_sound,p1)\n",
    "print('npts (new p1) = ' + str(len(p1_new)))"
   ]
  },
  {
   "cell_type": "code",
   "execution_count": 31,
   "metadata": {
    "collapsed": false
   },
   "outputs": [
    {
     "name": "stdout",
     "output_type": "stream",
     "text": [
      "1000\n"
     ]
    }
   ],
   "source": [
    "# make an arbitrary frequency range, not equal tempered or anything like that.. just a range: \n",
    "f_min = 220.0\n",
    "f_max = 830.0\n",
    "mNotes = np.linspace(f_min,f_max,20)\n",
    "\n",
    "# define the range of data values that will be interpolated FROM \n",
    "# THEN INTERPOLATE THE DATA FROM y-values TO FREQUENCY SPACE\n",
    "\n",
    "def interpYvals_to_freq(y):\n",
    "    y_min = min(y)\n",
    "    y_max = max(y) \n",
    "    # linear array of the possible data values\n",
    "    y_interp = np.linspace(y_min,y_max+(y_max-y_min)/len(mNotes), len(mNotes))\n",
    "    \n",
    "    data_in_freqvals = np.interp(y,y_interp,mNotes)\n",
    "    \n",
    "    return data_in_freqvals\n",
    "\n",
    "data_in_freqvals = interpYvals_to_freq(p1_new)\n",
    "print(len(data_in_freqvals))\n",
    "#print(data_in_freqvals)"
   ]
  },
  {
   "cell_type": "code",
   "execution_count": 32,
   "metadata": {
    "collapsed": false
   },
   "outputs": [
    {
     "data": {
      "image/png": "[encoded data removed]",
      "text/plain": [
       "<matplotlib.figure.Figure at 0x115ddf550>"
      ]
     },
     "metadata": {},
     "output_type": "display_data"
    }
   ],
   "source": [
    "# PLOT THE RE-SAMPLED DATA\n",
    "fig = plt.figure(figsize=(10,8))\n",
    "\n",
    "plt.subplot(2,1,1)\n",
    "plt.plot(time_new,data_in_freqvals,'b-')\n",
    "plt.plot(time_new,data_in_freqvals,'ro')\n",
    "\n",
    "# add lines ! and note durations ! \n",
    "\n",
    "plt.xlabel('time [s]')\n",
    "plt.ylabel('frequency')\n",
    "\n",
    "plt.show()"
   ]
  },
  {
   "cell_type": "code",
   "execution_count": 42,
   "metadata": {
    "collapsed": false
   },
   "outputs": [
    {
     "name": "stdout",
     "output_type": "stream",
     "text": [
      "rtoutput(\"project.wav\")\n",
      "\n"
     ]
    }
   ],
   "source": [
    "# GENERATE THE RTcmix score ! (alternate to generating the midi score)\n",
    "base_name = 'project'\n",
    "score_name = base_name + '.sco'\n",
    "\n",
    "# ====================\n",
    "f_out = open(\"./\" + score_name , 'w')\n",
    "# YOU MUST DELETE THE SOUND FILE BEFORE RUNNING (either with python or with -clobber )\n",
    "f_out.write(\"set_option(\\\"clobber = on\\\")\")\n",
    "f_out.write(\"rtsetparams(44100, 1)\\n\")\n",
    "f_out.write(\"reset(44100)\\n\")\n",
    "f_out.write(\"load(\\\"WAVETABLE\\\")\\n\")\n",
    "\n",
    "output_string = 'rtoutput(\\\"' + base_name + '.wav\\\")\\n'  \n",
    "# don't need the brackets to make it an array ! \n",
    "print(output_string)\n",
    "f_out.write(output_string)\n",
    "\n",
    "f_out.write(\"waveform = maketable(\\\"wave\\\", 1000, 1.0, 0.4, 0.2)\\n\")\n",
    "f_out.write(\"ampenv = maketable(\\\"window\\\", 1000, \\\"hamming\\\")\\n\")       \n",
    "# write out the score ! \n",
    "# (start time, duration, amplitude, frequency, channel mix [0 left, 1.0 right],\n",
    "# table_handle (which waveform to use)\n",
    "\n",
    "# for now, constants: \n",
    "            \n",
    "# reset(44100) makes it very very smooth... \n",
    "            \n",
    "amp = 10000 \n",
    "mix = 0.5\n",
    "tab_han = 'waveform'\n",
    "\n",
    "for i,note_val in enumerate(data_in_freqvals):\n",
    "    t_start = time_new[i]\n",
    "    dur = dur_note # DO NOT FORGET TO CHANGE THIS WHEN DOING PART 2 !! \n",
    "    freq = note_val\n",
    "    note_string = 'WAVETABLE(' + str(t_start) + ', ' \\\n",
    "                  + str(dur)  + ', ' + str(amp)+ '*ampenv' + ', ' \\\n",
    "                  + str(freq)  + ', ' + str(mix)  + ', ' \\\n",
    "                  +  tab_han + ')\\n' \n",
    "    f_out.write(note_string)\n",
    "f_out.close()"
   ]
  },
  {
   "cell_type": "code",
   "execution_count": 43,
   "metadata": {
    "collapsed": false
   },
   "outputs": [
    {
     "name": "stdout",
     "output_type": "stream",
     "text": [
      "CMIX < project.sco\n",
      "ls: *.wav: No such file or directory\r\n"
     ]
    }
   ],
   "source": [
    "import subprocess as sp\n",
    "cmix_cmd = 'CMIX < ' + score_name\n",
    "print(cmix_cmd)\n",
    "\n",
    "runCMIX = sp.Popen(cmix_cmd, shell=True) # if can only be called from a shell, use shell=True\n",
    "runCMIX.wait()\n",
    "! ls *.wav"
   ]
  },
  {
   "cell_type": "code",
   "execution_count": null,
   "metadata": {
    "collapsed": true
   },
   "outputs": [],
   "source": []
  }
 ],
 "metadata": {
  "anaconda-cloud": {},
  "kernelspec": {
   "display_name": "Python [Root]",
   "language": "python",
   "name": "Python [Root]"
  },
  "language_info": {
   "codemirror_mode": {
    "name": "ipython",
    "version": 2
   },
   "file_extension": ".py",
   "mimetype": "text/x-python",
   "name": "python",
   "nbconvert_exporter": "python",
   "pygments_lexer": "ipython2",
   "version": "2.7.12"
  }
 },
 "nbformat": 4,
 "nbformat_minor": 0
}
