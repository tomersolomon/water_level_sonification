{
 "cells": [
  {
   "cell_type": "markdown",
   "metadata": {},
   "source": [
    "# SIMPLE ANIMATION\n",
    "## (1) 2 visual parameters \n",
    "## (2) simple motion"
   ]
  },
  {
   "cell_type": "code",
   "execution_count": 1,
   "metadata": {
    "collapsed": false
   },
   "outputs": [
    {
     "data": {
      "text/plain": [
       "'/Users/Tomer/Documents/Columbia/2016-2017/Spring/sonification/final_project_animation'"
      ]
     },
     "execution_count": 1,
     "metadata": {},
     "output_type": "execute_result"
    }
   ],
   "source": [
    "pwd"
   ]
  },
  {
   "cell_type": "code",
   "execution_count": 2,
   "metadata": {
    "collapsed": false
   },
   "outputs": [
    {
     "name": "stdout",
     "output_type": "stream",
     "text": [
      "Using matplotlib backend: MacOSX\n"
     ]
    }
   ],
   "source": [
    "from matplotlib import cm\n",
    "import numpy as np\n",
    "import math\n",
    "import matplotlib.pyplot as plt\n",
    "import matplotlib.patches as patches\n",
    "import matplotlib.animation as animation\n",
    "\n",
    "\n",
    "%matplotlib auto\n",
    "%matplotlib inline"
   ]
  },
  {
   "cell_type": "markdown",
   "metadata": {},
   "source": [
    "## (2) another example:  motion of a slider (one parameter)\n",
    "### (Geysers injection data)... "
   ]
  },
  {
   "cell_type": "code",
   "execution_count": 3,
   "metadata": {
    "collapsed": false
   },
   "outputs": [],
   "source": [
    "##TOMER\n",
    "\n",
    "import pandas as pd\n",
    "import requests\n",
    "import csv\n",
    "from io import StringIO\n",
    "\n",
    "#dates + station are ints\n",
    "#product is string\n",
    "\n",
    "def create_df(begin_date,end_date,station,product,start_index,end_index):\n",
    "    parameters = {\"begin_date\": begin_date , \"end_date\": end_date , \"station\": station , \"product\": product, \"units\": \"english\", \"time_zone\": \"gmt\", \"format\": \"csv\",\"application\" : \"NOS.COOPS.TAC.WL\", \"datum\": \"MLLW\"}\n",
    "    url_small = 'https://tidesandcurrents.noaa.gov/api/datagetter'\n",
    "    r_test = requests.get(url_small,params=parameters)\n",
    "    water_level_data = pd.read_csv(StringIO(r_test.text))\n",
    "    time = water_level_data.index\n",
    "    p1 = water_level_data[water_level_data.columns[1]][start_index:end_index]\n",
    "    #convert to numpy\n",
    "    p1 = p1.as_matrix()\n",
    "    return p1\n",
    "\n",
    "\n",
    "begin_date = 20170401\n",
    "end_date = 20170407\n",
    "start_index = 1\n",
    "end_index = 1500\n",
    "\n",
    "station_sf = 9414290\n",
    "\n",
    "p1_waterlevel = create_df(begin_date,end_date,station_sf,'water_level',start_index,end_index)\n",
    "p1_watertemp = create_df(begin_date,end_date,station_sf,'water_temperature',start_index,end_index)\n",
    "p1_airtemp = create_df(begin_date,end_date,station_sf,'air_temperature',start_index,end_index)\n",
    "\n",
    "#station_sd = 9410170\n",
    "\n",
    "station_mont = 9413450\n",
    "\n",
    "p2_waterlevel = create_df(begin_date,end_date,station_mont,'water_level',start_index,end_index)\n",
    "#becaus monterey has nan's\n",
    "mask = np.isnan(p2_waterlevel)\n",
    "p2_waterlevel[mask] = np.interp(np.flatnonzero(mask), np.flatnonzero(~mask), p2_waterlevel[~mask])\n",
    "\n",
    "p2_watertemp = create_df(begin_date,end_date,station_mont,'water_temperature',start_index,end_index)\n",
    "p2_airtemp = create_df(begin_date,end_date,station_mont,'air_temperature',start_index,end_index)\n",
    "\n",
    "station_tx = 8771450\n",
    "\n",
    "p3_waterlevel = create_df(begin_date,end_date,station_tx,'water_level',start_index,end_index)\n",
    "p3_watertemp = create_df(begin_date,end_date,station_tx,'water_temperature',start_index,end_index)\n",
    "p3_airtemp = create_df(begin_date,end_date,station_tx,'air_temperature',start_index,end_index)\n",
    "\n",
    "station_fl = 8726607\n",
    "\n",
    "p4_waterlevel = create_df(begin_date,end_date,station_fl,'water_level',start_index,end_index)\n",
    "p4_watertemp = create_df(begin_date,end_date,station_fl,'water_temperature',start_index,end_index)\n",
    "p4_airtemp = create_df(begin_date,end_date,station_fl,'air_temperature',start_index,end_index)\n"
   ]
  },
  {
   "cell_type": "code",
   "execution_count": 4,
   "metadata": {
    "collapsed": false
   },
   "outputs": [
    {
     "data": {
      "text/plain": [
       "[<matplotlib.lines.Line2D at 0x10fb737b8>]"
      ]
     },
     "execution_count": 4,
     "metadata": {},
     "output_type": "execute_result"
    },
    {
     "data": {
      "image/png": "[encoded data removed]",
      "text/plain": [
       "<matplotlib.figure.Figure at 0x103f0d320>"
      ]
     },
     "metadata": {},
     "output_type": "display_data"
    }
   ],
   "source": [
    "#graph of raw data\n",
    "\n",
    "plt.plot(p3_waterlevel)\n"
   ]
  },
  {
   "cell_type": "code",
   "execution_count": 12,
   "metadata": {
    "collapsed": false
   },
   "outputs": [
    {
     "name": "stdout",
     "output_type": "stream",
     "text": [
      "num frames = 1499\n",
      "movie_dur = 2.0\n",
      "frame_interval = 0.00133422281521014\n",
      "frames per sec = 749.5000000000001\n"
     ]
    }
   ],
   "source": [
    "n_frames = len(p1_waterlevel)\n",
    "print('num frames = ' + str(n_frames))\n",
    "movie_dur = 2.0 # in seconds\n",
    "print('movie_dur = ' + str(movie_dur))\n",
    "frame_interval = movie_dur/n_frames\n",
    "print('frame_interval = ' + str(frame_interval))\n",
    "fps_ideal = 1./frame_interval\n",
    "print('frames per sec = ' + str(fps_ideal))"
   ]
  },
  {
   "cell_type": "code",
   "execution_count": 13,
   "metadata": {
    "collapsed": false
   },
   "outputs": [
    {
     "name": "stdout",
     "output_type": "stream",
     "text": [
      "initial posn. val = 0.7887661141804789\n",
      "initial posn. val = 0.7363850555368563\n",
      "initial posn. val = 0.44504865483686323\n",
      "initial posn. val = 0.5773755656108599\n"
     ]
    }
   ],
   "source": [
    "# MAPPING THE PHYSICAL VALUES TO DOT PARAMETERS...\n",
    "\n",
    "ind = len(p1_waterlevel) - 10\n",
    "\n",
    "# =====================\n",
    "# MAP parameter 1 TO position\n",
    "\n",
    "def slider_posn(p1_val,p1):\n",
    "    num_vals = 10\n",
    "    p1_vec = np.linspace(np.min(p1),np.max(p1),num_vals)\n",
    "    top = 0.8\n",
    "    bot = 0.2\n",
    "    posn_vec = np.linspace(bot,top,num_vals)\n",
    "    posn_val = np.interp(p1_val,p1_vec,posn_vec)\n",
    "    return posn_val\n",
    "\n",
    "posn_1 = slider_posn(p1_waterlevel[ind],p1_waterlevel)\n",
    "print('initial posn. val = ' + str(posn_1))\n",
    "\n",
    "posn_2 = slider_posn(p2_waterlevel[ind],p2_waterlevel)\n",
    "print('initial posn. val = ' + str(posn_2))\n",
    "\n",
    "posn_3 = slider_posn(p3_waterlevel[ind],p3_waterlevel)\n",
    "print('initial posn. val = ' + str(posn_3))\n",
    "\n",
    "posn_4 = slider_posn(p4_waterlevel[ind],p4_waterlevel)\n",
    "print('initial posn. val = ' + str(posn_4))\n",
    "\n"
   ]
  },
  {
   "cell_type": "code",
   "execution_count": 14,
   "metadata": {
    "collapsed": false
   },
   "outputs": [
    {
     "name": "stdout",
     "output_type": "stream",
     "text": [
      "dot_col = (0.2298057, 0.298717966, 0.75368315299999999, 1.0)\n",
      "dot_col = (0.2298057, 0.298717966, 0.75368315299999999, 1.0)\n",
      "dot_col = (0.80496475882352947, 0.85166616055686273, 0.92616507443137253, 1.0)\n",
      "dot_col = (0.60316206791764704, 0.73152747735294121, 0.99956527853725485, 1.0)\n"
     ]
    }
   ],
   "source": [
    "#attempt to map to color\n",
    "\n",
    "\n",
    "def color_getter(p2_val,p2,color_map):\n",
    "    num_vals = 10\n",
    "    p2_vec = np.linspace(np.min(p2),np.max(p2),num_vals)\n",
    "    cmap = plt.get_cmap(color_map)\n",
    "    #cmap = cm.hot\n",
    "    color_vec = np.linspace(0,1,num_vals)\n",
    "    color_ind = np.interp(p2_val,p2_vec,color_vec)\n",
    "    dot_col = cmap(color_ind)\n",
    "    return dot_col\n",
    "\n",
    "\n",
    "average_airtemp = (p1_airtemp + p2_airtemp + p3_airtemp + p4_airtemp)/4 \n",
    "\n",
    "col_background = color_getter(average_airtemp[ind],average_airtemp,'Purples')\n",
    "\n",
    "col_1 = color_getter(p1_watertemp[ind],p1_watertemp,'coolwarm')\n",
    "col_2 = color_getter(p2_watertemp[ind],p2_watertemp,'coolwarm')\n",
    "col_3 = color_getter(p3_watertemp[ind],p3_watertemp,'coolwarm')\n",
    "col_4 = color_getter(p4_watertemp[ind],p4_watertemp,'coolwarm')\n",
    "\n",
    "print('dot_col = ' + str(col_1) )\n",
    "print('dot_col = ' + str(col_2) )\n",
    "print('dot_col = ' + str(col_3) )\n",
    "print('dot_col = ' + str(col_4) )\n",
    "\n"
   ]
  },
  {
   "cell_type": "code",
   "execution_count": 15,
   "metadata": {
    "collapsed": false
   },
   "outputs": [
    {
     "data": {
      "image/png": "[encoded data removed]",
      "text/plain": [
       "<matplotlib.figure.Figure at 0x112750fd0>"
      ]
     },
     "metadata": {},
     "output_type": "display_data"
    }
   ],
   "source": [
    "# ======================\n",
    "# PLOT THE background \n",
    "\n",
    "fig1 = plt.figure(figsize=(6, 6))\n",
    "ax = fig1.add_subplot(111, aspect='equal')\n",
    "\n",
    "# (0) plot a filled square with a vertical slider bar in it...\n",
    "# patches.Rectangle((x,y,lower left corner),width,height)\n",
    "\n",
    "#background\n",
    "background = ax.add_patch(patches.Rectangle((0.0, 0.0),1,1,facecolor='#a671c4',label='Average Air Temperature'))\n",
    "#[1,1,0.9]\n",
    "\n",
    "\n",
    "\n",
    "#rectangle1\n",
    "rectangle_1 = patches.Rectangle((.15, .2),0.1,0.6,facecolor = col_1,label='Water Temperature')\n",
    "ax.add_patch(rectangle_1) \n",
    "\n",
    "#levelbar1\n",
    "levelbar_1 = patches.Rectangle((0.15, posn_1),0.1,0.03,facecolor = '#e09c00',label='Water Level' )\n",
    "levelbar_1.set_y(posn_1)\n",
    "ax.add_artist(levelbar_1)\n",
    "\n",
    "#rectangle2\n",
    "rectangle_2 = patches.Rectangle((.35, .2),0.1,0.6,facecolor = col_1)\n",
    "ax.add_patch(rectangle_2) \n",
    "\n",
    "#levelbar2\n",
    "levelbar_2 = patches.Rectangle((0.35, posn_2),0.1,0.03,facecolor = '#e09c00' ) \n",
    "levelbar_2.set_y(posn_2)\n",
    "ax.add_artist(levelbar_2)\n",
    "\n",
    "#rectangle3\n",
    "rectangle_3 = patches.Rectangle((.55, .2),0.1,0.6,facecolor = col_1)\n",
    "ax.add_patch(rectangle_3) \n",
    "\n",
    "#levelbar3\n",
    "levelbar_3 = patches.Rectangle((0.55, posn_3),0.1,0.03,facecolor = '#e09c00' ) \n",
    "levelbar_3.set_y(posn_3)\n",
    "ax.add_artist(levelbar_3)\n",
    "\n",
    "#rectangle4\n",
    "rectangle_4 = patches.Rectangle((.75, .2),0.1,0.6,facecolor = col_1)\n",
    "ax.add_patch(rectangle_4) \n",
    "\n",
    "#levelbar4\n",
    "levelbar_4 = patches.Rectangle((0.75, posn_4),0.1,0.03,facecolor = '#e09c00' ) \n",
    "levelbar_4.set_y(posn_4)\n",
    "ax.add_artist(levelbar_4)\n",
    "\n",
    "\n",
    "#plt.legend(handles=[background,rectangle_1,levelbar_1],bbox_to_anchor=(1.05, .65), loc=2, borderaxespad=0.1)\n",
    "\n",
    "#ax.set_title('Sonification of CA, TX, and FL Water Level Data for April 1st to 7th, 2017')\n",
    "ax.get_xaxis().set_visible(False)\n",
    "ax.get_yaxis().set_visible(False)\n",
    "plt.savefig('labeled_viz.png', bbox_inches='tight')"
   ]
  },
  {
   "cell_type": "code",
   "execution_count": 9,
   "metadata": {
    "collapsed": false
   },
   "outputs": [
    {
     "data": {
      "text/plain": [
       "(0.0, 1.0, 0.0, 1.0)"
      ]
     },
     "execution_count": 9,
     "metadata": {},
     "output_type": "execute_result"
    },
    {
     "data": {
      "image/png": "[encoded data removed]",
      "text/plain": [
       "<matplotlib.figure.Figure at 0x10fd0c470>"
      ]
     },
     "metadata": {},
     "output_type": "display_data"
    }
   ],
   "source": [
    "#color bar creation\n",
    "\n",
    "a = np.array([[0,1]])\n",
    "plt.figure(figsize=(9, 1.5))\n",
    "img = plt.imshow(a, cmap=\"copper\")\n",
    "plt.gca().set_visible(False)\n",
    "cax = plt.axes([0.1, 0.2, 0.8, 0.6])\n",
    "plt.colorbar(orientation=\"horizontal\", cax=cax)\n",
    "plt.axis('off')\n",
    "#pl.savefig(\"colorbar.pdf\")"
   ]
  },
  {
   "cell_type": "code",
   "execution_count": 10,
   "metadata": {
    "collapsed": false
   },
   "outputs": [],
   "source": [
    "# #these variables reference data which is a list of all the dataframes. data is global\n",
    "# def init_new():\n",
    "#     init_list = []\n",
    "#     for i in range(0,len(data)):\n",
    "#         print(data[i])\n",
    "#         y_posn = slider_posn(data[i][0],data[i])\n",
    "#         levelbar.set_y(y_posn)\n",
    "#         ax1.add_artist(levelbar)\n",
    "#         init_list.append(levelbar)\n",
    "#     print(init_list)\n",
    "#     return init_list\n",
    "\n",
    "# def animate_new(i): # is this (i) needed for the animate function ? \n",
    "#     animate_list = []\n",
    "#     for j in range(0,len(data)):\n",
    "#         #print(data[j])\n",
    "#         y_posn = slider_posn(data[j][i],data[j])\n",
    "#         levelbar.set_y(y_posn)\n",
    "#         ax1.add_artist(levelbar)\n",
    "# -    #print(animate_list)\n",
    "#     return animate_list"
   ]
  },
  {
   "cell_type": "code",
   "execution_count": 16,
   "metadata": {
    "collapsed": false
   },
   "outputs": [],
   "source": [
    "# ANIMATE \n",
    "\n",
    "# flag to determine whether movie gets viewed (0) or recorded (1), not both. \n",
    "view_or_write = 1\n",
    "# to save, you must first install ffmpeg (and then restart the notebook engine)\n",
    "if view_or_write == 1:\n",
    "    movie_name = 'water_levelcolors_FINAL_1500_vF.mp4'\n",
    "\n",
    "# ===================================================\n",
    "# initialize what will move in the animation\n",
    "\n",
    "def init():\n",
    "    #initialize background color\n",
    "    col_background = []\n",
    "    col_background = color_getter(p1_waterlevel[0],p1_waterlevel,'Purples')\n",
    "    #set background\n",
    "    background.set_color(col_background)\n",
    "    \n",
    "    #initialize slider color\n",
    "    col_slider_1 = []\n",
    "    col_slider_1 = color_getter(p1_waterlevel[0],p1_waterlevel,'copper')\n",
    "    #initialize rectangle color\n",
    "    col_bar_1 = []\n",
    "    col_bar_1 = color_getter(p1_watertemp[0],p1_watertemp,'coolwarm')\n",
    "    #initialize slider position\n",
    "    y_posn_1 = slider_posn(p1_waterlevel[0],p1_waterlevel)\n",
    "    #set stuff\n",
    "    levelbar_1.set_y(y_posn_1)\n",
    "    levelbar_1.set_color(col_slider_1)\n",
    "    rectangle_1.set_color(col_bar_1)\n",
    "    #add artist\n",
    "    ax.add_artist(levelbar_1)\n",
    "    \n",
    "    ###2\n",
    "    \n",
    "    col_slider_2 = []\n",
    "    col_slider_2 = color_getter(p2_waterlevel[0],p2_waterlevel,'copper')\n",
    "    #initialize rectangle color\n",
    "    col_bar_2 = []\n",
    "    col_bar_2 = color_getter(p2_watertemp[0],p2_watertemp,'coolwarm')\n",
    "    #initialize slider position\n",
    "    y_posn_2 = slider_posn(p2_waterlevel[0],p2_waterlevel)\n",
    "    #set stuff\n",
    "    levelbar_2.set_y(y_posn_2)\n",
    "    levelbar_2.set_color(col_slider_2)\n",
    "    rectangle_2.set_color(col_bar_2)\n",
    "    #add artist\n",
    "    ax.add_artist(levelbar_2)\n",
    "    \n",
    "    ###3\n",
    "    \n",
    "    col_slider_3 = []\n",
    "    col_slider_3 = color_getter(p3_waterlevel[0],p3_waterlevel,'copper')\n",
    "    #initialize rectangle color\n",
    "    col_bar_3 = []\n",
    "    col_bar_3 = color_getter(p3_watertemp[0],p3_watertemp,'coolwarm')\n",
    "    #initialize slider position\n",
    "    y_posn_3 = slider_posn(p3_waterlevel[0],p3_waterlevel)\n",
    "    #set stuff\n",
    "    levelbar_3.set_y(y_posn_3)\n",
    "    levelbar_3.set_color(col_slider_3)\n",
    "    rectangle_3.set_color(col_bar_3)\n",
    "    #add artist\n",
    "    ax.add_artist(levelbar_3)\n",
    "    \n",
    "    ###4\n",
    "    \n",
    "    col_slider_4 = []\n",
    "    col_slider_4 = color_getter(p4_waterlevel[0],p4_waterlevel,'copper')\n",
    "    #initialize rectangle color\n",
    "    col_bar_4 = []\n",
    "    col_bar_4 = color_getter(p4_watertemp[0],p4_watertemp,'coolwarm')\n",
    "    #initialize slider position\n",
    "    y_posn_4 = slider_posn(p4_waterlevel[0],p4_waterlevel)\n",
    "    #set stuff\n",
    "    levelbar_4.set_y(y_posn_4)\n",
    "    levelbar_4.set_color(col_slider_4)\n",
    "    rectangle_4.set_color(col_bar_4)\n",
    "    #add artist\n",
    "    ax.add_artist(levelbar_4)\n",
    "    \n",
    "    return levelbar_1,levelbar_2,levelbar_3,levelbar_4\n",
    "\n",
    "    \n",
    "# ===================================================\n",
    "# define what will move in the animation\n",
    "def animate(i): # is this (i) needed for the animate function ? \n",
    "    #initialize background color\n",
    "    col_background = []\n",
    "    col_background = color_getter(p1_waterlevel[i],p1_waterlevel,'Purples')\n",
    "    #set background\n",
    "    background.set_color(col_background)\n",
    "    \n",
    "    #color slider\n",
    "    col_slider_1 = []\n",
    "    col_slider_1 = color_getter(p1_waterlevel[i],p1_waterlevel,'copper')\n",
    "    #color bar\n",
    "    col_bar_1 = []\n",
    "    col_bar_1 = color_getter(p1_watertemp[i],p1_watertemp,'coolwarm')\n",
    "    #position\n",
    "    y_posn_1 = slider_posn(p1_waterlevel[i],p1_waterlevel)\n",
    "    #set stuff\n",
    "    levelbar_1.set_y(y_posn_1)\n",
    "    levelbar_1.set_color(col_slider_1)\n",
    "    rectangle_1.set_color(col_bar_1)\n",
    "    #add artist\n",
    "    ax.add_artist(levelbar_1)\n",
    "    \n",
    "    ### 2\n",
    "    \n",
    "    #color slider\n",
    "    col_slider_2 = []\n",
    "    col_slider_2 = color_getter(p2_waterlevel[i],p2_waterlevel,'copper')\n",
    "    #color bar\n",
    "    col_bar_2 = []\n",
    "    col_bar_2 = color_getter(p2_watertemp[i],p2_watertemp,'coolwarm')\n",
    "    #position\n",
    "    y_posn_2 = slider_posn(p2_waterlevel[i],p2_waterlevel)\n",
    "    #set stuff\n",
    "    levelbar_2.set_y(y_posn_2)\n",
    "    levelbar_2.set_color(col_slider_2)\n",
    "    rectangle_2.set_color(col_bar_2)\n",
    "    #add artist\n",
    "    ax.add_artist(levelbar_2)\n",
    "    \n",
    "    ###3\n",
    "    \n",
    "    col_slider_3 = []\n",
    "    col_slider_3 = color_getter(p3_waterlevel[i],p3_waterlevel,'copper')\n",
    "    #initialize rectangle color\n",
    "    col_bar_3 = []\n",
    "    col_bar_3 = color_getter(p3_watertemp[i],p3_watertemp,'coolwarm')\n",
    "    #initialize slider position\n",
    "    y_posn_3 = slider_posn(p3_waterlevel[i],p3_waterlevel)\n",
    "    #set stuff\n",
    "    levelbar_3.set_y(y_posn_3)\n",
    "    levelbar_3.set_color(col_slider_3)\n",
    "    rectangle_3.set_color(col_bar_3)\n",
    "    #add artist\n",
    "    ax.add_artist(levelbar_3)\n",
    "    \n",
    "    ###4\n",
    "    \n",
    "    col_slider_4 = []\n",
    "    col_slider_4 = color_getter(p4_waterlevel[i],p4_waterlevel,'copper')\n",
    "    #initialize rectangle color\n",
    "    col_bar_4 = []\n",
    "    col_bar_4 = color_getter(p4_watertemp[i],p4_watertemp,'coolwarm')\n",
    "    #initialize slider position\n",
    "    y_posn_4 = slider_posn(p4_waterlevel[i],p4_waterlevel)\n",
    "    #set stuff\n",
    "    levelbar_4.set_y(y_posn_4)\n",
    "    levelbar_4.set_color(col_slider_4)\n",
    "    rectangle_4.set_color(col_bar_4)\n",
    "    #add artist\n",
    "    ax.add_artist(levelbar_4)\n",
    "  \n",
    "    return levelbar_1,levelbar_2,levelbar_3,levelbar_4\n",
    "\n",
    "anim = animation.FuncAnimation(fig1, animate, \n",
    "                               init_func=init, \n",
    "                               frames=len(p1_waterlevel), \n",
    "                               interval=frame_interval) #,repeat=False) \n",
    "#                               blit=True)\n",
    "\n",
    "if view_or_write==0:\n",
    "    plt.show()\n",
    "elif view_or_write==1:\n",
    "    anim.save(movie_name, fps=fps_ideal,bitrate=5500, extra_args=['-vcodec', 'h264','-pix_fmt', 'yuv420p'])\n",
    "\n",
    "# check exact duration of movie with >> ffprobe [moviename]"
   ]
  },
  {
   "cell_type": "code",
   "execution_count": null,
   "metadata": {
    "collapsed": true
   },
   "outputs": [],
   "source": []
  },
  {
   "cell_type": "code",
   "execution_count": null,
   "metadata": {
    "collapsed": true
   },
   "outputs": [],
   "source": []
  }
 ],
 "metadata": {
  "anaconda-cloud": {},
  "kernelspec": {
   "display_name": "Python [python3]",
   "language": "python",
   "name": "Python [python3]"
  },
  "language_info": {
   "codemirror_mode": {
    "name": "ipython",
    "version": 3
   },
   "file_extension": ".py",
   "mimetype": "text/x-python",
   "name": "python",
   "nbconvert_exporter": "python",
   "pygments_lexer": "ipython3",
   "version": "3.5.2"
  }
 },
 "nbformat": 4,
 "nbformat_minor": 1
}
